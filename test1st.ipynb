{
 "cells": [
  {
   "cell_type": "code",
   "execution_count": 3,
   "id": "3efd6cf9",
   "metadata": {},
   "outputs": [
    {
     "name": "stdout",
     "output_type": "stream",
     "text": [
      "9\n"
     ]
    }
   ],
   "source": [
    "def solution(x):\n",
    "    return 3**x\n",
    "print(solution(2))"
   ]
  },
  {
   "cell_type": "code",
   "execution_count": 4,
   "id": "acd34455",
   "metadata": {},
   "outputs": [
    {
     "data": {
      "text/plain": [
       "'ih'"
      ]
     },
     "execution_count": 4,
     "metadata": {},
     "output_type": "execute_result"
    }
   ],
   "source": [
    "def solution(x):\n",
    "    return x[::-1]\n",
    "solution('hi')"
   ]
  },
  {
   "cell_type": "code",
   "execution_count": 5,
   "id": "ebdb06a1",
   "metadata": {},
   "outputs": [
    {
     "data": {
      "text/plain": [
       "6"
      ]
     },
     "execution_count": 5,
     "metadata": {},
     "output_type": "execute_result"
    }
   ],
   "source": [
    "solution=[1,2,3]\n",
    "sum(solution)"
   ]
  },
  {
   "cell_type": "code",
   "execution_count": 8,
   "id": "25924dd7",
   "metadata": {},
   "outputs": [
    {
     "data": {
      "text/plain": [
       "7"
      ]
     },
     "execution_count": 8,
     "metadata": {},
     "output_type": "execute_result"
    }
   ],
   "source": [
    "def solution(x):\n",
    "    return len(x)\n",
    "solution([1,4,2,3,13,4,1])"
   ]
  },
  {
   "cell_type": "code",
   "execution_count": 1,
   "id": "ffb1c88b",
   "metadata": {},
   "outputs": [
    {
     "data": {
      "text/plain": [
       "(10, 2)"
      ]
     },
     "execution_count": 1,
     "metadata": {},
     "output_type": "execute_result"
    }
   ],
   "source": [
    "def solution(x):\n",
    "    d=l=0\n",
    "    for c in x:\n",
    "        if c.isdigit():\n",
    "            d=d+1\n",
    "        elif c.isalpha():\n",
    "            l=l+1\n",
    "        else:\n",
    "            pass\n",
    "    return(l,d)\n",
    "solution('hello3wor1ld')"
   ]
  },
  {
   "cell_type": "code",
   "execution_count": 10,
   "id": "2eee79bf",
   "metadata": {},
   "outputs": [
    {
     "data": {
      "text/plain": [
       "['0.7.6', '1.0.9', '1.2.1', '2.1.3', '7.4.0']"
      ]
     },
     "execution_count": 10,
     "metadata": {},
     "output_type": "execute_result"
    }
   ],
   "source": [
    "def solution(x):\n",
    "    res = sorted (x, key = lambda x: (len (x), x))\n",
    "    return res\n",
    "solution(['1.2.1','1.0.9','0.7.6','7.4.0','2.1.3'])"
   ]
  },
  {
   "cell_type": "code",
   "execution_count": 13,
   "id": "33a1f6f9",
   "metadata": {},
   "outputs": [
    {
     "ename": "SyntaxError",
     "evalue": "invalid syntax (Temp/ipykernel_6956/3260275382.py, line 18)",
     "output_type": "error",
     "traceback": [
      "\u001b[1;36m  File \u001b[1;32m\"C:\\Users\\Khayyam\\AppData\\Local\\Temp/ipykernel_6956/3260275382.py\"\u001b[1;36m, line \u001b[1;32m18\u001b[0m\n\u001b[1;33m    return = True\u001b[0m\n\u001b[1;37m           ^\u001b[0m\n\u001b[1;31mSyntaxError\u001b[0m\u001b[1;31m:\u001b[0m invalid syntax\n"
     ]
    }
   ],
   "source": [
    "length = lower = upper = digit = False\n",
    "\n",
    "password = ('helloworld')\n",
    "\n",
    "if len(password)>= 6:\n",
    "    length = True\n",
    "    for letter in password:\n",
    "        if letter.islower():\n",
    "            lower = True\n",
    "        elif letter.isupper():\n",
    "            upper = True\n",
    "        elif letter.isdigit():\n",
    "            digit = True\n",
    "\n",
    "\n",
    "if length and lower and upper and digit:\n",
    "    return "
   ]
  },
  {
   "cell_type": "code",
   "execution_count": null,
   "id": "270e6742",
   "metadata": {},
   "outputs": [],
   "source": []
  }
 ],
 "metadata": {
  "kernelspec": {
   "display_name": "Python 3 (ipykernel)",
   "language": "python",
   "name": "python3"
  },
  "language_info": {
   "codemirror_mode": {
    "name": "ipython",
    "version": 3
   },
   "file_extension": ".py",
   "mimetype": "text/x-python",
   "name": "python",
   "nbconvert_exporter": "python",
   "pygments_lexer": "ipython3",
   "version": "3.9.7"
  }
 },
 "nbformat": 4,
 "nbformat_minor": 5
}
